{
  "cells": [
    {
      "cell_type": "markdown",
      "metadata": {
        "id": "AbzZLqIPv6b7",
        "outputId": "19f2fc2b-6f1d-4b43-fd50-4c513e3936fd"
      },
      "source": [
        "# Transformer Architecture Exploration\n",
        "\n",
        "In this notebook, I explore the Transformer architecture with a focus on its core building blocks. Transformer’s have the ability to process sequences in parallel, which is unique from the sequential nature of RNNs. This offers major improvements in training speed and scalability for deep learning tasks involving text, time series, and more.\n",
        "\n",
        "### Objectives\n",
        "\n",
        "- Understand how positional encodings allow the Transformer model to incorporate token order\n",
        "- Implement the scaled dot-product attention mechanism\n",
        "- Explore how multi-head attention improves representation learning\n",
        "- Assemble a basic Transformer encoder-decoder model from scratch\n"
      ]
    },
    {
      "cell_type": "markdown",
      "metadata": {
        "id": "QSE8y57S_4ID"
      },
      "source": [
        "## Packages"
      ]
    },
    {
      "cell_type": "code",
      "execution_count": null,
      "metadata": {
        "id": "_OpwqWL2QH5G"
      },
      "outputs": [],
      "source": [
        "import sys\n",
        "import os\n",
        "import random\n",
        "# add src folder to path (will possibly make as package in future)\n",
        "sys.path.append(os.path.abspath(os.path.join(os.getcwd(), '..', 'src')))\n",
        "from tests.architecture_tests import get_angles_test, positional_encoding_test, scaled_dot_product_attention_test, EncoderLayer_test, DecoderLayer_test, Decoder_test, Transformer_test\n",
        "import tensorflow as tf\n",
        "import time\n",
        "import numpy as np\n",
        "import matplotlib.pyplot as plt\n",
        "from tensorflow.keras.layers import Embedding, MultiHeadAttention, Dense, Input, Dropout, LayerNormalization\n",
        "from transformers import DistilBertTokenizerFast #, TFDistilBertModel\n",
        "from transformers import TFDistilBertForTokenClassification"
      ]
    },
    {
      "cell_type": "code",
      "execution_count": null,
      "metadata": {
        "id": "9Hmxf3h5BfO_"
      },
      "outputs": [],
      "source": [
        "SEED = 10\n",
        "# TensorFlow random seed\n",
        "tf.random.set_seed(SEED)\n",
        "# NumPy random seed\n",
        "np.random.seed(SEED)\n",
        "# Python random seed\n",
        "random.seed(SEED)\n",
        "# deterministic operations (for GPU computations)\n",
        "os.environ['TF_DETERMINISTIC_OPS'] = '1'"
      ]
    },
    {
      "cell_type": "markdown",
      "metadata": {
        "id": "smPQmicy_4IE"
      },
      "source": [
        "## 1. Positional Encoding\n",
        "\n",
        "Unlike RNNs, Transformer models process entire input sequences at the same time, which essentially means they don’t understand the order of tokens. To overcome this issue, **positional encodings** are used to inject position-specific information into the input embeddings.\n",
        "\n",
        "A common approach for this involves using sine and cosine functions of varying frequencies, which allow the model to learn relationships between token positions in a continuous, smooth space.\n",
        "\n",
        "These encodings are calculated as follows:\n",
        "\n",
        "$$\n",
        "PE_{(pos, 2i)} = \\sin\\left(\\frac{pos}{10000^{\\frac{2i}{d}}}\\right) \\quad (1)\n",
        "$$\n",
        "\n",
        "$$\n",
        "PE_{(pos, 2i+1)} = \\cos\\left(\\frac{pos}{10000^{\\frac{2i}{d}}}\\right) \\quad (2)\n",
        "$$\n",
        "\n",
        "Where:\n",
        "- $pos$ is the token position in the sequence\n",
        "- $i$ is the dimension index\n",
        "- $d$ is the total dimensionality of the embedding\n",
        "\n",
        "By adding these position-based vectors to the word embeddings, semantic meaning is preserved and order related information can be introduced. The encoding also makes sure that relative distances between positions are represented consistently across dimensions.\n",
        "\n",
        "---\n",
        "\n",
        "## Understanding the Angle Formula\n",
        "\n",
        "Both sine and cosine encodings share a common angle term:\n",
        "\n",
        "$$\n",
        "\\theta(pos, i, d) = \\frac{pos}{10000^{\\frac{2i}{d}}}\n",
        "$$\n",
        "\n",
        "This means that each pair of sine and cosine components (for even and odd dimensions) corresponds to the same frequency-based angle. For example:\n",
        "\n",
        "- $PE_{(pos, 0)}$ and $PE_{(pos, 1)}$ use the same angle with sine and cosine\n",
        "- $PE_{(pos, 2)}$ and $PE_{(pos, 3)}$ use another angle at a different frequency\n",
        "\n",
        "The following table illustrates this pairing structure:\n",
        "\n",
        "| Position | $k=0$          | $k=1$          | $k=2$          | $k=3$          | ... |\n",
        "|----------|----------------|----------------|----------------|----------------|------|\n",
        "| PE(pos)  | $\\sin(\\theta)$ | $\\cos(\\theta)$ | $\\sin(\\theta)$ | $\\cos(\\theta)$ | ... |\n",
        "\n",
        "\n"
      ]
    },
    {
      "cell_type": "code",
      "execution_count": null,
      "metadata": {
        "id": "bPzwMVfcQpT-"
      },
      "outputs": [],
      "source": [
        "def get_angles(pos, k, d):\n",
        "    \"\"\"\n",
        "    Get the angles for the positional encoding\n",
        "    Arguments:\n",
        "        pos -- Column vector containing the positions [[0], [1], ...,[N-1]]\n",
        "        k --   Row vector containing the dimension span [[0, 1, 2, ..., d-1]]\n",
        "        d(integer) -- Encoding size\n",
        "    Returns:\n",
        "        angles -- (pos, d) numpy array\n",
        "    \"\"\"\n",
        "    tf.random.set_seed(SEED)\n",
        "    # Get i from dimension span k\n",
        "    i = k // 2\n",
        "    # Calculate the angles using pos, i and d\n",
        "    angles = pos/(10000**(2*i/d))\n",
        "\n",
        "    return angles"
      ]
    },
    {
      "cell_type": "code",
      "execution_count": 116,
      "metadata": {
        "colab": {
          "base_uri": "https://localhost:8080/"
        },
        "id": "Xxp0Q5p8_4IE",
        "outputId": "6a1e8898-9f06-42af-8e7b-3ab87b0afa78"
      },
      "outputs": [
        {
          "name": "stdout",
          "output_type": "stream",
          "text": [
            "\u001b[92mAll tests passed\n"
          ]
        },
        {
          "data": {
            "text/plain": [
              "array([[0.e+00, 0.e+00, 0.e+00, 0.e+00, 0.e+00, 0.e+00, 0.e+00, 0.e+00],\n",
              "       [1.e+00, 1.e+00, 1.e-01, 1.e-01, 1.e-02, 1.e-02, 1.e-03, 1.e-03],\n",
              "       [2.e+00, 2.e+00, 2.e-01, 2.e-01, 2.e-02, 2.e-02, 2.e-03, 2.e-03],\n",
              "       [3.e+00, 3.e+00, 3.e-01, 3.e-01, 3.e-02, 3.e-02, 3.e-03, 3.e-03]])"
            ]
          },
          "execution_count": 116,
          "metadata": {},
          "output_type": "execute_result"
        }
      ],
      "source": [
        "get_angles_test(get_angles)\n",
        "\n",
        "# Example\n",
        "position = 4\n",
        "d_model = 8\n",
        "pos_m = np.arange(position)[:, np.newaxis]\n",
        "dims = np.arange(d_model)[np.newaxis, :]\n",
        "get_angles(pos_m, dims, d_model)"
      ]
    },
    {
      "cell_type": "markdown",
      "metadata": {
        "id": "G5xDUhmU_4IE"
      },
      "source": [
        "---\n",
        "\n",
        "## Calculating Positional Encodings\n",
        "\n",
        "Using the angle matrix I computed, I can now apply the sine function to even-numbered dimensions and the cosine function to odd-numbered ones to build the full positional encoding matrix.\n",
        "\n",
        "This matrix is added to the input embeddings before feeding into the Transformer layers."
      ]
    },
    {
      "cell_type": "code",
      "execution_count": 117,
      "metadata": {
        "id": "y78txxoHQtwG"
      },
      "outputs": [],
      "source": [
        "def positional_encoding(positions, d):\n",
        "    \"\"\"\n",
        "    Precomputes a matrix with all the positional encodings\n",
        "    Arguments:\n",
        "        positions (int) -- Maximum number of positions to be encoded\n",
        "        d (int) -- Encoding size\n",
        "    Returns:\n",
        "        pos_encoding -- (1, position, d_model) A matrix with the positional encodings\n",
        "    \"\"\"\n",
        "    # initialize a matrix angle_rads of all the angles\n",
        "    tf.random.set_seed(SEED)\n",
        "    angle_rads = get_angles(np.arange(positions)[:, np.newaxis], np.arange(d), d)\n",
        "\n",
        "    # apply sin to even indices in the array; 2i\n",
        "    angle_rads[:, 0::2] = np.sin(angle_rads[:,0::2])\n",
        "\n",
        "    # apply cos to odd indices in the array; 2i+1\n",
        "    angle_rads[:, 1::2] = np.cos(angle_rads[:,1::2])\n",
        "\n",
        "    pos_encoding = angle_rads[np.newaxis, ...]\n",
        "\n",
        "    return tf.cast(pos_encoding, dtype=tf.float32)"
      ]
    },
    {
      "cell_type": "code",
      "execution_count": 118,
      "metadata": {
        "colab": {
          "base_uri": "https://localhost:8080/"
        },
        "id": "jYiWrawRQvuv",
        "outputId": "a5b3a66d-665a-4691-b80f-a9e9fd86f80b"
      },
      "outputs": [
        {
          "name": "stdout",
          "output_type": "stream",
          "text": [
            "\u001b[92mAll tests passed\n"
          ]
        }
      ],
      "source": [
        "# UNIT TEST\n",
        "positional_encoding_test(positional_encoding, get_angles)"
      ]
    },
    {
      "cell_type": "code",
      "execution_count": null,
      "metadata": {
        "colab": {
          "base_uri": "https://localhost:8080/",
          "height": 473
        },
        "id": "rHkpvE5x_4IF",
        "outputId": "835f9ace-5068-4f09-ad4d-997fa4ef1b97"
      },
      "outputs": [
        {
          "name": "stdout",
          "output_type": "stream",
          "text": [
            "(1, 50, 512)\n"
          ]
        },
        {
          "data": {
            "image/png": "[encoded data removed]",
            "text/plain": [
              "<Figure size 640x480 with 2 Axes>"
            ]
          },
          "metadata": {},
          "output_type": "display_data"
        }
      ],
      "source": [
        "# visualize positional encodings\n",
        "pos_encoding = positional_encoding(50, 512)\n",
        "print (pos_encoding.shape)\n",
        "\n",
        "plt.pcolormesh(pos_encoding[0], cmap='RdBu')\n",
        "plt.xlabel('d')\n",
        "plt.xlim((0, 512))\n",
        "plt.ylabel('Position')\n",
        "plt.colorbar()\n",
        "plt.show()"
      ]
    },
    {
      "cell_type": "markdown",
      "metadata": {
        "id": "1fE4A8Lv_4IF"
      },
      "source": [
        "Each row in the positional encoding matrix corresponds to a specific position in the input sequence. Since each position receives a unique encoding, the model can distinguish between the order of tokens, even when processing the sequence in parallel.\n",
        "\n",
        "---\n",
        "\n",
        "## 2. Masking Strategies in Transformers\n",
        "\n",
        "When building a Transformer model, certain tokens should be ignored during attention calculations to prevent misleading results. Two common masking strategies are used:\n",
        "\n",
        "- **Padding Mask**: Ignores padding tokens added for sequence alignment.\n",
        "- **Look-Ahead Mask**: Prevents the model from attending to future tokens during decoding (used in autoregressive tasks like translation).\n",
        "\n",
        "---\n",
        "\n",
        "### Padding Mask\n",
        "\n",
        "In real-world NLP projects, input sequences will likely vary in length. However, Transformer models expect inputs of a fixed size. To align these sequences, shorter sequences are padded with zeros, and longer ones may be truncated:\n",
        "\n",
        "**Example:**\n",
        "\n",
        "Original tokenized input:\n",
        "```plaintext\n",
        "[[ 71, 121,   4,  56,  99, 2344,  345, 1284,   15],\n",
        " [ 56, 1285,  15, 181, 545],\n",
        " [ 87,  600]]\n",
        "```\n",
        "\n",
        "After padding to a fixed length of 5:\n",
        "```plaintext\n",
        "[[ 71, 121,   4,  56,  99],\n",
        " [2344,  345, 1284,   15,    0],\n",
        " [ 56, 1285,   15, 181,  545],\n",
        " [ 87,  600,    0,   0,    0]]\n",
        "```\n",
        "\n",
        "The padding values (`0`) are not meaningful inputs. If they were included in attention calculations, they would skew the output. Thats why we use a **padding mask** to assign very negative scores (like `-1e9`) to these positions before applying the softmax. This ensures they contribute essentially nothing to the attention output.\n",
        "\n",
        "**Conceptually:**\n",
        "- Input: `[87, 600, 0, 0, 0]`\n",
        "- Masked: `[87, 600, -1e9, -1e9, -1e9]`\n",
        "- After softmax, the masked values will have zero weight.\n",
        "\n",
        "This approach is supported by many Transformer implementations, such as Keras’s [`MultiHeadAttention`](https://keras.io/api/layers/attention_layers/multi_head_attention/) layer, which accepts padding masks as input.\n",
        "\n",
        "> Note: The function below generates a mask for an already padded sequence.\n",
        "```\n",
        "\n",
        "\n"
      ]
    },
    {
      "cell_type": "code",
      "execution_count": 120,
      "metadata": {
        "id": "JOL9XWsFQxxo"
      },
      "outputs": [],
      "source": [
        "def create_padding_mask(decoder_token_ids):\n",
        "    \"\"\"\n",
        "    Creates a matrix mask for the padding cells\n",
        "    Arguments:\n",
        "        decoder_token_ids -- (n, m) matrix\n",
        "    Returns:\n",
        "        mask -- (n, 1, m) binary tensor\n",
        "    \"\"\"\n",
        "    seq = 1 - tf.cast(tf.math.equal(decoder_token_ids, 0), tf.float32)\n",
        "\n",
        "    # add extra dimensions to add the padding\n",
        "    # to the attention logits.\n",
        "    # this will allow for broadcasting later when comparing sequences\n",
        "    return seq[:, tf.newaxis, :]"
      ]
    },
    {
      "cell_type": "code",
      "execution_count": 121,
      "metadata": {
        "colab": {
          "base_uri": "https://localhost:8080/"
        },
        "id": "5J5FFjklQ1Fz",
        "outputId": "829f523e-7f76-4b15-c6a5-6f23b0e9d5c9"
      },
      "outputs": [
        {
          "name": "stdout",
          "output_type": "stream",
          "text": [
            "tf.Tensor(\n",
            "[[[1. 1. 0. 0. 1.]]\n",
            "\n",
            " [[1. 1. 1. 0. 0.]]\n",
            "\n",
            " [[0. 0. 0. 1. 1.]]], shape=(3, 1, 5), dtype=float32)\n"
          ]
        }
      ],
      "source": [
        "x = tf.constant([[7., 6., 0., 0., 1.], [1., 2., 3., 0., 0.], [0., 0., 0., 4., 5.]])\n",
        "print(create_padding_mask(x))"
      ]
    },
    {
      "cell_type": "code",
      "execution_count": 122,
      "metadata": {
        "colab": {
          "base_uri": "https://localhost:8080/"
        },
        "id": "DZavd87r_4IF",
        "outputId": "1a4dec7a-b901-4649-b4b5-f2f1cf0cc84c"
      },
      "outputs": [
        {
          "name": "stdout",
          "output_type": "stream",
          "text": [
            "tf.Tensor(\n",
            "[[7.2876638e-01 2.6809821e-01 6.6454895e-04 6.6454895e-04 1.8064313e-03]\n",
            " [8.4437370e-02 2.2952458e-01 6.2391245e-01 3.1062771e-02 3.1062771e-02]\n",
            " [4.8541022e-03 4.8541022e-03 4.8541022e-03 2.6502505e-01 7.2041267e-01]], shape=(3, 5), dtype=float32)\n",
            "tf.Tensor(\n",
            "[[[7.2973621e-01 2.6845497e-01 0.0000000e+00 0.0000000e+00 1.8088353e-03]\n",
            "  [2.4472848e-01 6.6524088e-01 0.0000000e+00 0.0000000e+00 9.0030566e-02]\n",
            "  [6.6483538e-03 6.6483538e-03 0.0000000e+00 0.0000000e+00 9.8670328e-01]]\n",
            "\n",
            " [[7.3057157e-01 2.6876229e-01 6.6619506e-04 0.0000000e+00 0.0000000e+00]\n",
            "  [9.0030566e-02 2.4472848e-01 6.6524088e-01 0.0000000e+00 0.0000000e+00]\n",
            "  [3.3333334e-01 3.3333334e-01 3.3333334e-01 0.0000000e+00 0.0000000e+00]]\n",
            "\n",
            " [[0.0000000e+00 0.0000000e+00 0.0000000e+00 2.6894143e-01 7.3105854e-01]\n",
            "  [0.0000000e+00 0.0000000e+00 0.0000000e+00 5.0000000e-01 5.0000000e-01]\n",
            "  [0.0000000e+00 0.0000000e+00 0.0000000e+00 2.6894143e-01 7.3105854e-01]]], shape=(3, 3, 5), dtype=float32)\n"
          ]
        }
      ],
      "source": [
        "print(tf.keras.activations.softmax(x))\n",
        "print(tf.keras.activations.softmax(x + (1 - create_padding_mask(x)) * -1.0e9))"
      ]
    },
    {
      "cell_type": "markdown",
      "metadata": {
        "id": "waT6_PRx_4IF"
      },
      "source": [
        "### Look-Ahead Mask (Causal Masking)\n",
        "\n",
        "In autoregressive tasks like language modeling or text generation, the model should not have access to future tokens when predicting the current one. This is where a **look-ahead mask** (AKA causal mask) is applied.\n",
        "\n",
        "The look-ahead mask makes sure each position in the decoder can only attend to previous positions, not future ones.\n",
        "\n",
        "---\n",
        "\n",
        "**Conceptual Example:**\n",
        "\n",
        "Suppose the true output sequence is:\n",
        "\n",
        "[1, 2, 3]\n",
        "\n",
        "\n",
        "During training, you don’t want the model to peek at positions 2 and 3 while predicting position 1. So, you apply a mask that hides future values at each time step:\n",
        "\n",
        "| Step | Visible Input        | Masked Output         |\n",
        "|------|----------------------|------------------------|\n",
        "| 1    | `[1, -1e9, -1e9]`    | Predict token 1        |\n",
        "| 2    | `[1, 2, -1e9]`       | Predict token 2        |\n",
        "| 3    | `[1, 2, 3]`          | Predict token 3        |\n",
        "\n",
        "This allows the model to simulate sequential prediction while still training in parallel.\n",
        "\n",
        "Most modern Transformer libraries support this natively through a look-ahead or causal mask input.\n"
      ]
    },
    {
      "cell_type": "code",
      "execution_count": 123,
      "metadata": {
        "id": "9O9UbM31Q3hK"
      },
      "outputs": [],
      "source": [
        "def create_look_ahead_mask(sequence_length):\n",
        "    \"\"\"\n",
        "    Returns a lower triangular matrix filled with ones\n",
        "    Arguments:\n",
        "        sequence_length -- matrix size\n",
        "    Returns:\n",
        "        mask -- (size, size) tensor\n",
        "    \"\"\"\n",
        "    tf.random.set_seed(SEED)\n",
        "    mask = tf.linalg.band_part(tf.ones((1, sequence_length, sequence_length)), -1, 0)\n",
        "    return mask"
      ]
    },
    {
      "cell_type": "code",
      "execution_count": 124,
      "metadata": {
        "colab": {
          "base_uri": "https://localhost:8080/"
        },
        "id": "nfzHoVj9Q5nG",
        "outputId": "0565b9c1-659b-4db9-f199-12ed70862c67"
      },
      "outputs": [
        {
          "data": {
            "text/plain": [
              "<tf.Tensor: shape=(1, 3, 3), dtype=float32, numpy=\n",
              "array([[[1., 0., 0.],\n",
              "        [1., 1., 0.],\n",
              "        [1., 1., 1.]]], dtype=float32)>"
            ]
          },
          "execution_count": 124,
          "metadata": {},
          "output_type": "execute_result"
        }
      ],
      "source": [
        "x = tf.random.uniform((1, 3))\n",
        "temp = create_look_ahead_mask(x.shape[1])\n",
        "temp"
      ]
    },
    {
      "cell_type": "markdown",
      "metadata": {
        "id": "VG0gPyv0oDBi"
      },
      "source": [
        "## 3. Self-Attention\n",
        "\n",
        "Self-attention is a very important component of the Transformer architecture. It allows the model to weigh the relevance of every other token in the sequence when processing a particular token. Unlike traditional RNNs, self-attention is fully parallelizable, making it efficient for large-scale training.\n",
        "\n",
        "<img src=\"../assets/self-attention.png\" alt=\"Self-Attention Illustration\" width=\"600\"/>\n",
        "\n",
        "In the Transformer model, **scaled dot-product attention** is used to calculate attention scores between tokens. Each token is projected into three different spaces to produce:\n",
        "\n",
        "- **Queries (Q)**\n",
        "- **Keys (K)**\n",
        "- **Values (V)**\n",
        "\n",
        "These are combined using the following equation:\n",
        "\n",
        "$$\n",
        "\\text{Attention}(Q, K, V) = \\operatorname{softmax}\\left(\\frac{Q K^{T}}{\\sqrt{d_k}} + M\\right) V \\tag{4}\n",
        "$$\n",
        "\n",
        "Where:\n",
        "- $Q$ is the matrix of queries\n",
        "- $K$ is the matrix of keys\n",
        "- $V$ is the matrix of values\n",
        "- $M$ is an optional mask (ex: padding or look-ahead)\n",
        "- $d_k$ is the dimensionality of the keys and is used for scaling\n",
        "\n",
        "Scaling by $\\sqrt{d_k}$ prevents the dot products from growing too large, which helps stabilize gradients when the softmax is applied.\n",
        "\n",
        "---\n",
        "\n",
        "### Implementing Scaled Dot-Product Attention\n",
        "\n",
        "The implementation of scaled dot-product attention takes in query, key, value, and an optional mask. The mask is typically used to prevent attention to certain positions (ex: padding tokens or future tokens in the decoder).\n",
        "\n",
        "When a mask is provided, we modify the attention logits by applying:\n",
        "\n",
        "```python\n",
        "masked_logits = logits + (1.0 - mask) * -1e9\n"
      ]
    },
    {
      "cell_type": "code",
      "execution_count": 137,
      "metadata": {
        "id": "CSysk_rjQ7lp"
      },
      "outputs": [],
      "source": [
        "def scaled_dot_product_attention(q, k, v, mask):\n",
        "    \"\"\"\n",
        "    Calculate the attention weights.\n",
        "      q, k, v must have matching leading dimensions.\n",
        "      k, v must have matching penultimate dimension, i.e.: seq_len_k = seq_len_v.\n",
        "      The mask has different shapes depending on its type(padding or look ahead)\n",
        "      but it must be broadcastable for addition.\n",
        "    Arguments:\n",
        "        q -- query shape == (..., seq_len_q, depth)\n",
        "        k -- key shape == (..., seq_len_k, depth)\n",
        "        v -- value shape == (..., seq_len_v, depth_v)\n",
        "        mask: Float tensor with shape broadcastable\n",
        "              to (..., seq_len_q, seq_len_k). Defaults to None.\n",
        "    Returns:\n",
        "        output -- attention_weights\n",
        "    \"\"\"\n",
        "    tf.random.set_seed(SEED)\n",
        "    matmul_qk = tf.matmul(q, k, transpose_b=True)  # (..., seq_len_q, seq_len_k)\n",
        "\n",
        "    # scale matmul_qk\n",
        "    dk = tf.cast(tf.shape(k)[-1], tf.float32)\n",
        "    scaled_attention_logits = matmul_qk / tf.math.sqrt(dk)\n",
        "\n",
        "    # add the mask to the scaled tensor.\n",
        "    if mask is not None: # Don't replace this None\n",
        "        scaled_attention_logits += (1.0 - mask)*-1e9\n",
        "\n",
        "    # softmax is normalized on the last axis (seq_len_k) so that the scores\n",
        "    # add up to 1.\n",
        "    attention_weights = tf.nn.softmax(scaled_attention_logits, axis=-1)  # (..., seq_len_q, seq_len_k)\n",
        "\n",
        "    output = tf.matmul(attention_weights, v)  # (..., seq_len_q, depth_v)\n",
        "\n",
        "    return output, attention_weights"
      ]
    },
    {
      "cell_type": "code",
      "execution_count": 126,
      "metadata": {
        "colab": {
          "base_uri": "https://localhost:8080/"
        },
        "id": "oxVbTBd-_4IG",
        "outputId": "4de0bf20-25f5-4779-8629-71cf62b5cc4c"
      },
      "outputs": [
        {
          "name": "stdout",
          "output_type": "stream",
          "text": [
            "\u001b[92mAll tests passed\n"
          ]
        }
      ],
      "source": [
        "# UNIT TEST\n",
        "scaled_dot_product_attention_test(scaled_dot_product_attention)"
      ]
    },
    {
      "cell_type": "markdown",
      "metadata": {
        "id": "blS0pEpTqRVI"
      },
      "source": [
        "With self-attention implemented, the next step is to build the Transformer encoder block.\n",
        "\n",
        "---\n",
        "\n",
        "## 4. Encoder Architecture\n",
        "\n",
        "The Transformer encoder is composed of two main sub-layers:\n",
        "\n",
        "1. **Multi-Head Self-Attention**  \n",
        "2. **Feed-Forward Neural Network**\n",
        "\n",
        "These components are stacked together with residual connections and layer normalization to create a powerful and scalable architecture. The encoder generates context-aware representations of the input tokens and passes key and value vectors to the decoder.\n",
        "\n",
        "<img src=\"../assets/encoder_layer.png\" alt=\"Transformer Encoder Layer\" width=\"400\"/>\n",
        "\n",
        "In this setup:\n",
        "- The **Multi-Head Attention** layer allows the model to jointly attend to information from different representation subspaces.\n",
        "- The **Feed-Forward Network (FFN)** consists of two dense layers, applied independently to each position in the sequence.\n",
        "\n",
        "---\n",
        "\n",
        "### Encoder Block Design\n",
        "\n",
        "1. **Multi-Head Self-Attention**  \n",
        "   - Allows the encoder to look at all positions in the input sequence when processing each token.\n",
        "   - Allows learning multiple types of relationships by using multiple attention heads.\n",
        "   - Implemented using [`tf.keras.layers.MultiHeadAttention`](https://www.tensorflow.org/api_docs/python/tf/keras/layers/MultiHeadAttention)\n",
        "\n",
        "2. **Feed-Forward Network**  \n",
        "   - A small two-layer neural network applied identically to each position.\n",
        "   - Typically includes a ReLU or GELU activation between the dense layers.\n",
        "   - Implemented using the [Keras Sequential API](https://keras.io/api/models/sequential/)\n",
        "\n",
        "The attention output is first passed through a dropout and normalization layer before being added back to the original input (residual connection). The same pattern is repeated after the FFN. This structure is repeated in multiple encoder layers to form the full Transformer encoder stack.\n"
      ]
    },
    {
      "cell_type": "code",
      "execution_count": 127,
      "metadata": {
        "id": "sC5vJhz29vZR"
      },
      "outputs": [],
      "source": [
        "def FullyConnected(embedding_dim, fully_connected_dim):\n",
        "    tf.random.set_seed(SEED)\n",
        "    return tf.keras.Sequential([tf.keras.layers.Dense(fully_connected_dim, activation='relu'), # (batch_size, seq_len, dff)\n",
        "                                tf.keras.layers.Dense(embedding_dim)]) # (batch_size, seq_len, embedding_dim)\n"
      ]
    },
    {
      "cell_type": "markdown",
      "metadata": {
        "id": "R65WbX5wqYYH"
      },
      "source": [
        "### 4.1. Building the Encoder Layer\n",
        "\n",
        "With the core components in place, I can now make a full encoder layer by combining:\n",
        "\n",
        "- Multi-head self-attention\n",
        "- Feed-forward neural network (FFN)\n",
        "- Residual connections\n",
        "- Layer normalization\n",
        "- Dropout for regularization\n",
        "\n",
        "This structure mirrors the standard encoder block design introduced in the original Transformer paper. A diagram of the layer structure is shown below:\n",
        "\n",
        "<img src=\"../assets/encoder_layer.png\" alt=\"Encoder Layer Diagram\" width=\"400\"/>\n",
        "\n",
        "---\n",
        "\n",
        "### Encoder Layer Implementation Overview\n",
        "\n",
        "The encoder layer operates as follows:\n",
        "\n",
        "1. **Self-Attention**  \n",
        "   The input is passed through a multi-head self-attention mechanism. For self-attention, the query, key, and value inputs are all the same (`Q = K = V`). An optional mask can be applied here to ignore specific tokens (e.g., padding).\n",
        "\n",
        "2. **Residual Connection + Normalization**  \n",
        "   A skip connection is added between the input and the attention output. This sum is then passed through a layer normalization layer.\n",
        "\n",
        "3. **Feed-Forward Network**  \n",
        "   The output is then passed through a small two-layer feed-forward neural network. Dropout is applied for regularization.\n",
        "\n",
        "4. **Second Residual Connection + Normalization**  \n",
        "   Another skip connection is applied between the FFN input and its output, followed by a second layer normalization.\n",
        "\n",
        "This design allows each encoder block to build increasingly rich representations of the input, while the residual connections help with gradient flow during training.\n",
        "\n",
        "\n"
      ]
    },
    {
      "cell_type": "code",
      "execution_count": 128,
      "metadata": {
        "id": "tIufbrc-9_2u"
      },
      "outputs": [],
      "source": [
        "# from tensorflow.keras.layers import LayerNormalization, Dropout, MultiHeadAttention, Dense\n",
        "\n",
        "class EncoderLayer(tf.keras.layers.Layer):\n",
        "    def __init__(self, embedding_dim, num_heads, fully_connected_dim,\n",
        "                 dropout_rate=0.1, layernorm_eps=1e-6):\n",
        "        super(EncoderLayer, self).__init__()\n",
        "\n",
        "        tf.random.set_seed(SEED)  # Set seed before defining layers\n",
        "\n",
        "        # Fix the initializer for MultiHeadAttention\n",
        "        self.mha = MultiHeadAttention(num_heads=num_heads,\n",
        "                                      key_dim=embedding_dim,\n",
        "                                      dropout=dropout_rate,\n",
        "                                      kernel_initializer=tf.keras.initializers.GlorotUniform(seed=SEED))\n",
        "\n",
        "        # Fix the initializer for FullyConnected layers\n",
        "        self.ffn = tf.keras.Sequential([Dense(fully_connected_dim, activation='relu',kernel_initializer=tf.keras.initializers.GlorotUniform(seed=SEED)),\n",
        "                                        Dense(embedding_dim, kernel_initializer=tf.keras.initializers.GlorotUniform(seed=SEED))])\n",
        "\n",
        "        # Fix the initializer for LayerNormalization\n",
        "        self.layernorm1 = LayerNormalization(epsilon=layernorm_eps)\n",
        "        self.layernorm2 = LayerNormalization(epsilon=layernorm_eps)\n",
        "\n",
        "        # Fix the Dropout seed\n",
        "        self.dropout_ffn = Dropout(dropout_rate, seed=SEED)\n",
        "\n",
        "    def call(self, x, training, mask):\n",
        "        tf.random.set_seed(SEED)  # Ensure deterministic behavior at every call\n",
        "\n",
        "        self_mha_output = self.mha(query=x, value=x, key=x, attention_mask=mask, return_attention_scores=False, training=training)\n",
        "\n",
        "        # Skip connection + LayerNorm\n",
        "        skip_x_attention = self.layernorm1(x + self_mha_output)\n",
        "\n",
        "        # Pass through feedforward\n",
        "        ffn_output = self.ffn(skip_x_attention)\n",
        "\n",
        "        # Apply dropout (only during training)\n",
        "        ffn_output = self.dropout_ffn(ffn_output, training=training)\n",
        "\n",
        "        # Final layer norm\n",
        "        encoder_layer_out = self.layernorm2(skip_x_attention + ffn_output)\n",
        "        print(encoder_layer_out)\n",
        "\n",
        "        return encoder_layer_out\n"
      ]
    },
    {
      "cell_type": "code",
      "execution_count": 129,
      "metadata": {
        "colab": {
          "base_uri": "https://localhost:8080/"
        },
        "id": "RNfcWkuN_4IG",
        "outputId": "aa076c9e-635a-4fe7-84fd-7658ea34abfe"
      },
      "outputs": [
        {
          "name": "stdout",
          "output_type": "stream",
          "text": [
            "Tensor(\"layer_normalization_34_1/add_2:0\", shape=(1, 3, 4), dtype=float32)\n",
            "tf.Tensor(\n",
            "[[[ 0.9754241   0.15179627  0.52959394 -1.6568143 ]\n",
            "  [-0.24592474  0.44221142  1.266537   -1.4628237 ]\n",
            "  [ 1.6900113  -0.35137552 -0.41989863 -0.9187371 ]]], shape=(1, 3, 4), dtype=float32)\n",
            "tf.Tensor(\n",
            "[[[ 0.7332504   0.01539418  0.8870007  -1.6356452 ]\n",
            "  [-0.4855674   0.33046782  1.4271767  -1.2720772 ]\n",
            "  [ 1.6128805  -0.39568523 -0.10796562 -1.1092294 ]]], shape=(1, 3, 4), dtype=float32)\n",
            "\u001b[92mAll tests passed\n"
          ]
        }
      ],
      "source": [
        "# UNIT TEST\n",
        "tf.random.set_seed(SEED)\n",
        "EncoderLayer_test(EncoderLayer)"
      ]
    },
    {
      "cell_type": "markdown",
      "metadata": {
        "id": "wHYSVtcE_4IG"
      },
      "source": [
        "### Building the Full Transformer Encoder\n",
        "\n",
        "Now, the key components of the Transformer encoder are implemented: positional encodings, scaled dot-product self-attention, and a single encoder layer. Next, I bring everything together to build the **full encoder block** which is the backbone of the Transformer architecture.\n",
        "\n",
        "The full encoder consists of:\n",
        "\n",
        "- An embedding layer to convert token indices into dense vectors\n",
        "- Positional encodings added to the embeddings to incorporate order\n",
        "- A stack of multiple encoder layers\n",
        "- Dropout and scaling applied at key steps to improve regularization and training stability\n",
        "\n",
        "<img src=\"../assets/encoder.png\" alt=\"Full Transformer Encoder\" width=\"330\"/>\n",
        "\n",
        "---\n",
        "\n",
        "### Encoder Class Overview\n",
        "\n",
        "The encoder module follows this sequence of operations:\n",
        "\n",
        "1. **Embedding**  \n",
        "   The input token indices are passed through an `Embedding` layer to produce dense vector representations.\n",
        "\n",
        "2. **Embedding Scaling**  \n",
        "   The output of the embedding layer is scaled by $\\sqrt{d_{\\text{model}}}$ to prevent small initialization values from slowing down training. Be sure to cast `d_model` to `tf.float32` before the square root.\n",
        "\n",
        "3. **Positional Encoding**  \n",
        "   Positional information is added by summing the embeddings with a precomputed positional encoding matrix:  \n",
        "   ```python\n",
        "   x += self.pos_encoding[:, :seq_len, :]\n",
        "   ```\n",
        "\n",
        "4. **Dropout**  \n",
        "   A `Dropout` layer is applied after the positional encoding for regularization during training. \n",
        "\n",
        "5. **Encoder Layer Stack**  \n",
        "   The result is passed through a sequence of encoder layers (already defined) using a for loop. Each encoder layer is responsible for refining the input representations via multi-head attention and a feed forward network.\n",
        "\n",
        "This stacked architecture makes the encoder capture increasingly abstract relationships between tokens across the input sequence.\n",
        "\n",
        "The encoder can be reused in a variety of tasks, including machine translation, classification, and language modeling.\n"
      ]
    },
    {
      "cell_type": "code",
      "execution_count": 130,
      "metadata": {
        "id": "7j2Tjr0K0t0I"
      },
      "outputs": [],
      "source": [
        "from tensorflow.keras.layers import Embedding, Dropout\n",
        "import tensorflow as tf\n",
        "\n",
        "class Encoder(tf.keras.layers.Layer):\n",
        "    \"\"\"\n",
        "    The entire Encoder starts by passing the input to an embedding layer\n",
        "    and using positional encoding to then pass the output through a stack of\n",
        "    encoder Layers.\n",
        "    \"\"\"\n",
        "    def __init__(self, num_layers, embedding_dim, num_heads, fully_connected_dim, input_vocab_size,\n",
        "                 maximum_position_encoding, dropout_rate=0.1, layernorm_eps=1e-6):\n",
        "        super(Encoder, self).__init__()\n",
        "        tf.random.set_seed(SEED)  # Set seed before defining layers\n",
        "\n",
        "        self.embedding_dim = embedding_dim\n",
        "        self.num_layers = num_layers\n",
        "\n",
        "        # Use a fixed initializer with the seed for reproducibility\n",
        "        self.embedding = Embedding(input_vocab_size, self.embedding_dim,\n",
        "                                   embeddings_initializer=tf.keras.initializers.GlorotUniform(seed=SEED))\n",
        "\n",
        "        self.pos_encoding = positional_encoding(maximum_position_encoding, self.embedding_dim)\n",
        "\n",
        "        # Create EncoderLayer instances (each with its own reproducibility settings)\n",
        "        self.enc_layers = [EncoderLayer(embedding_dim=self.embedding_dim,\n",
        "                                        num_heads=num_heads,\n",
        "                                        fully_connected_dim=fully_connected_dim,\n",
        "                                        dropout_rate=dropout_rate,\n",
        "                                        layernorm_eps=layernorm_eps)\n",
        "                           for _ in range(self.num_layers)]\n",
        "\n",
        "        # Initialize dropout with a fixed seed\n",
        "        self.dropout = Dropout(dropout_rate, seed=SEED)\n",
        "\n",
        "    def call(self, x, training, mask):\n",
        "        # Do not reset the seed here; rely on the seed set once during initialization.\n",
        "        seq_len = tf.shape(x)[1]\n",
        "\n",
        "        # Pass input through the Embedding layer and scale it\n",
        "        x = self.embedding(x)  # (batch_size, input_seq_len, embedding_dim)\n",
        "        x *= tf.math.sqrt(tf.cast(self.embedding_dim, tf.float32))\n",
        "        # Add positional encoding\n",
        "        x += self.pos_encoding[:, :seq_len, :]\n",
        "        # Apply dropout (only during training)\n",
        "        x = self.dropout(x, training=training)\n",
        "        # Pass through the stack of encoder layers\n",
        "        for i in range(self.num_layers):\n",
        "            x = self.enc_layers[i](x, training=training, mask=mask)\n",
        "        return x  # (batch_size, input_seq_len, embedding_dim)\n"
      ]
    },
    {
      "cell_type": "markdown",
      "metadata": {
        "id": "6nU90yXs_4IG"
      },
      "source": [
        "## 5. Transformer Decoder\n",
        "\n",
        "The decoder is responsible for generating the output sequence, one token at a time, during autoregressive tasks such as translation or text generation. It processes the output sequence (shifted right during training) while attending to the encoder's outputs.\n",
        "\n",
        "The decoder layer incorporates two multi-head attention blocks:\n",
        "\n",
        "1. A self-attention layer that uses a look-ahead mask to prevent attending to future positions.\n",
        "2. A cross-attention layer that attends to the encoder’s key and value outputs using the current decoder state as the query.\n",
        "\n",
        "<img src=\"../assets/decoder_layer.png\" alt=\"Transformer Decoder Layer\" width=\"250\"/>\n",
        "\n",
        "---\n",
        "\n",
        "### Decoder Layer Design\n",
        "\n",
        "Each decoder layer follows a similar structure to the encoder but includes an additional self-attention block at the beginning.\n",
        "\n",
        "The layer consists of three sub-blocks:\n",
        "\n",
        "#### **Block 1: Masked Self-Attention**\n",
        "- Applies a look-ahead mask so that each position can only attend to previous positions in the output sequence.\n",
        "- This simulates autoregressive generation during training.\n",
        "- A residual connection and layer normalization follow the attention output.\n",
        "\n",
        "#### **Block 2: Encoder-Decoder Cross-Attention**\n",
        "- Calculates attention between the decoder’s current representation and the encoder's output.\n",
        "- The query comes from the decoder, while keys and values come from the encoder.\n",
        "- This allows the decoder to align its output generation with the encoded input.\n",
        "- A second residual connection and normalization are applied.\n",
        "\n",
        "#### **Block 3: Feed-Forward Network**\n",
        "- Similar to the encoder, a two-layer dense network is applied independently to each position.\n",
        "- Dropout is included for regularization, and another residual connection with layer normalization is applied.\n",
        "\n",
        "Each decoder layer allows the model to combine knowledge from both the input and previously generated tokens, allowing for flexible and powerful sequence generation. Multiple decoder layers are stacked to form the full Transformer decoder.\n"
      ]
    },
    {
      "cell_type": "code",
      "execution_count": 131,
      "metadata": {
        "id": "wEouNFvCzMeT"
      },
      "outputs": [],
      "source": [
        "class DecoderLayer(tf.keras.layers.Layer):\n",
        "    \"\"\"\n",
        "    The decoder layer is composed by two multi-head attention blocks,\n",
        "    one that takes the new input and uses self-attention, and the other\n",
        "    one that combines it with the output of the encoder, followed by a\n",
        "    fully connected block.\n",
        "    \"\"\"\n",
        "    def __init__(self, embedding_dim, num_heads, fully_connected_dim, dropout_rate=0.1, layernorm_eps=1e-6):\n",
        "        super(DecoderLayer, self).__init__()\n",
        "\n",
        "        tf.random.set_seed(SEED)  # Set seed before defining layers\n",
        "\n",
        "        self.mha1 = MultiHeadAttention(num_heads=num_heads,\n",
        "                                      key_dim=embedding_dim,\n",
        "                                      dropout=dropout_rate,\n",
        "                                      kernel_initializer=tf.keras.initializers.GlorotUniform(seed=SEED))\n",
        "\n",
        "        self.mha2 = MultiHeadAttention(num_heads=num_heads,\n",
        "                                      key_dim=embedding_dim,\n",
        "                                      dropout=dropout_rate,\n",
        "                                      kernel_initializer=tf.keras.initializers.GlorotUniform(seed=SEED))\n",
        "        for layer in self.mha1.trainable_variables:\n",
        "          layer.assign(tf.keras.initializers.GlorotUniform(seed=SEED)(shape=layer.shape))\n",
        "\n",
        "        for layer in self.mha2.trainable_variables:\n",
        "          layer.assign(tf.keras.initializers.GlorotUniform(seed=SEED)(shape=layer.shape))\n",
        "\n",
        "        self.ffn = FullyConnected(embedding_dim=embedding_dim,\n",
        "                                  fully_connected_dim=fully_connected_dim,\n",
        "                                 )\n",
        "\n",
        "        self.layernorm1 = LayerNormalization(epsilon=layernorm_eps)\n",
        "        self.layernorm2 = LayerNormalization(epsilon=layernorm_eps)\n",
        "        self.layernorm3 = LayerNormalization(epsilon=layernorm_eps)\n",
        "\n",
        "        self.dropout_ffn = Dropout(dropout_rate, seed=SEED)\n",
        "\n",
        "    def call(self, x, enc_output, training, look_ahead_mask, padding_mask):\n",
        "        \"\"\"\n",
        "        Forward pass for the Decoder Layer\n",
        "        Arguments:\n",
        "            x -- Tensor of shape (batch_size, target_seq_len, embedding_dim)\n",
        "            enc_output --  Tensor of shape(batch_size, input_seq_len, embedding_dim)\n",
        "            training -- Boolean, set to true to activate\n",
        "                        the training mode for dropout layers\n",
        "            look_ahead_mask -- Boolean mask for the target_input\n",
        "            padding_mask -- Boolean mask for the second multihead attention layer\n",
        "        Returns:\n",
        "            out3 -- Tensor of shape (batch_size, target_seq_len, embedding_dim)\n",
        "            attn_weights_block1 -- Tensor of shape(batch_size, num_heads, target_seq_len, input_seq_len)\n",
        "            attn_weights_block2 -- Tensor of shape(batch_size, num_heads, target_seq_len, input_seq_len)\n",
        "        \"\"\"\n",
        "        # enc_output.shape == (batch_size, input_seq_len, embedding_dim)\n",
        "\n",
        "        # BLOCK 1\n",
        "        # calculate self-attention and return attention scores as attn_weights_block1.\n",
        "        # Dropout will be applied during training (~1 line).\n",
        "        mult_attn_out1, attn_weights_block1 = self.mha1(query=x,\n",
        "                                                        value=x,\n",
        "                                                        key=x,\n",
        "                                                        attention_mask=look_ahead_mask,\n",
        "                                                        return_attention_scores=True)  # (batch_size, target_seq_len, embedding_dim)\n",
        "\n",
        "        # apply layer normalization (layernorm1) to the sum of the attention output and the input (~1 line)\n",
        "        Q1 = self.layernorm1(x + mult_attn_out1)\n",
        "\n",
        "        # BLOCK 2\n",
        "        # calculate self-attention using the Q from the first block and K and V from the encoder output.\n",
        "        # Dropout will be applied during training\n",
        "        # Return attention scores as attn_weights_block2 (~1 line)\n",
        "        mult_attn_out2, attn_weights_block2 = self.mha2(query=Q1,\n",
        "                                                        value=enc_output,\n",
        "                                                        key=enc_output,\n",
        "                                                        attention_mask=padding_mask,\n",
        "                                                        return_attention_scores=True)  # (batch_size, target_seq_len, embedding_dim)\n",
        "\n",
        "        # apply layer normalization (layernorm2) to the sum of the attention output and the output of the first block (~1 line)\n",
        "        mult_attn_out2 = self.layernorm2(Q1 + mult_attn_out2)  # (batch_size, target_seq_len, embedding_dim)\n",
        "\n",
        "        #BLOCK 3\n",
        "        # pass the output of the second block through a ffn\n",
        "        ffn_output = self.ffn(mult_attn_out2)  # (batch_size, target_seq_len, embedding_dim)\n",
        "\n",
        "        # apply a dropout layer to the ffn output\n",
        "        # use `training=training`\n",
        "        ffn_output = self.dropout_ffn(ffn_output, training=training)\n",
        "\n",
        "        # apply layer normalization (layernorm3) to the sum of the ffn output and the output of the second block\n",
        "        out3 = self.layernorm3(mult_attn_out2 + ffn_output) # (batch_size, target_seq_len, embedding_dim)\n",
        "\n",
        "        return out3, attn_weights_block1, attn_weights_block2\n"
      ]
    },
    {
      "cell_type": "code",
      "execution_count": 132,
      "metadata": {
        "colab": {
          "base_uri": "https://localhost:8080/"
        },
        "id": "-Yt6oqcG_4IH",
        "outputId": "a90b9fe9-6e6a-49de-820f-db3c26e5c6f8"
      },
      "outputs": [
        {
          "name": "stdout",
          "output_type": "stream",
          "text": [
            "\u001b[92mAll tests passed\n"
          ]
        }
      ],
      "source": [
        "# UNIT TEST\n",
        "DecoderLayer_test(DecoderLayer, create_look_ahead_mask)"
      ]
    },
    {
      "cell_type": "markdown",
      "metadata": {
        "id": "xGFdatZb_4IJ"
      },
      "source": [
        "### Building the Full Transformer Decoder\n",
        "\n",
        "The full decoder module combines all components developed so far: token embeddings, positional encodings, and a stack of decoder layers to generate output sequences autoregressively.\n",
        "\n",
        "The decoder receives the target sequence as input (typically shifted right during training), embeds it, adds positional information, and processes it through multiple decoder layers. Each decoder layer applies masked self-attention, cross-attention with encoder outputs, and a feed-forward network.\n",
        "\n",
        "<img src=\"../assets/decoder.png\" alt=\"Transformer Decoder Architecture\" width=\"300\"/>\n",
        "\n",
        "\n",
        "### Decoder Structure\n",
        "\n",
        "The decoder follows these steps:\n",
        "\n",
        "1. **Embedding Layer**  \n",
        "   Converts the token indices from the target sequence into dense vector representations using a learned embedding matrix.\n",
        "\n",
        "2. **Embedding Scaling**  \n",
        "   The embedding vectors are scaled by $\\sqrt{d_{\\text{model}}}$ to control the variance and stabilize training.\n",
        "\n",
        "3. **Positional Encoding**  \n",
        "   The positional encoding is added to the scaled embeddings to inject information about token order.\n",
        "\n",
        "4. **Dropout**  \n",
        "   Dropout is applied after the positional encoding to prevent overfitting during training.\n",
        "\n",
        "5. **Stack of Decoder Layers**  \n",
        "   The encoded input is passed through a stack of identical decoder layers. Each layer includes:\n",
        "   - Masked self-attention (with look-ahead mask)\n",
        "   - Cross-attention with encoder outputs\n",
        "   - Feed-forward network\n",
        "   - Residual connections and normalization\n",
        "\n",
        "The decoder can be used for tasks such as machine translation, text summarization, or any sequence generation problem where context from an input sequence is needed to condition the output.\n"
      ]
    },
    {
      "cell_type": "code",
      "execution_count": 133,
      "metadata": {
        "id": "McS3by6k4pnP"
      },
      "outputs": [],
      "source": [
        "class Decoder(tf.keras.layers.Layer):\n",
        "    \"\"\"\n",
        "    The entire Encoder starts by passing the target input to an embedding layer\n",
        "    and using positional encoding to then pass the output through a stack of\n",
        "    decoder Layers\n",
        "    \"\"\"\n",
        "    def __init__(self, num_layers, embedding_dim, num_heads, fully_connected_dim, target_vocab_size,\n",
        "               maximum_position_encoding, dropout_rate=0.1, layernorm_eps=1e-6):\n",
        "        super(Decoder, self).__init__()\n",
        "        tf.random.set_seed(SEED)  # Set seed before defining layers\n",
        "\n",
        "        self.embedding_dim = embedding_dim\n",
        "        self.num_layers = num_layers\n",
        "\n",
        "        self.embedding = Embedding(target_vocab_size, self.embedding_dim)\n",
        "        self.pos_encoding = positional_encoding(maximum_position_encoding, self.embedding_dim)\n",
        "\n",
        "        self.dec_layers = [DecoderLayer(embedding_dim=self.embedding_dim,\n",
        "                                        num_heads=num_heads,\n",
        "                                        fully_connected_dim=fully_connected_dim,\n",
        "                                        dropout_rate=dropout_rate,\n",
        "                                        layernorm_eps=layernorm_eps)\n",
        "                           for _ in range(self.num_layers)]\n",
        "\n",
        "        self.dropout = Dropout(dropout_rate, seed=SEED)\n",
        "\n",
        "    def call(self, x, enc_output, training,\n",
        "           look_ahead_mask, padding_mask):\n",
        "        \"\"\"\n",
        "        Forward  pass for the Decoder\n",
        "\n",
        "        Arguments:\n",
        "            x -- Tensor of shape (batch_size, target_seq_len, embedding_dim)\n",
        "            enc_output --  Tensor of shape(batch_size, input_seq_len, embedding_dim)\n",
        "            training -- Boolean, set to true to activate\n",
        "                        the training mode for dropout layers\n",
        "            look_ahead_mask -- Boolean mask for the target_input\n",
        "            padding_mask -- Boolean mask for the second multihead attention layer\n",
        "        Returns:\n",
        "            x -- Tensor of shape (batch_size, target_seq_len, embedding_dim)\n",
        "            attention_weights - Dictionary of tensors containing all the attention weights\n",
        "                                each of shape Tensor of shape (batch_size, num_heads, target_seq_len, input_seq_len)\n",
        "        \"\"\"\n",
        "\n",
        "        seq_len = tf.shape(x)[1]\n",
        "        attention_weights = {}\n",
        "\n",
        "        # create word embeddings\n",
        "        x = self.embedding(x)  # (batch_size, target_seq_len, embedding_dim)\n",
        "\n",
        "        # scale embeddings by multiplying by the square root of their dimension\n",
        "        x *= tf.math.sqrt(tf.cast(self.embedding_dim, tf.float32))\n",
        "\n",
        "        # calculate positional encodings and add to word embedding\n",
        "        x += self.pos_encoding[:, :seq_len, :]\n",
        "\n",
        "        # apply a dropout layer to x\n",
        "        # use `training=training`\n",
        "        x = self.dropout(x, training=training)\n",
        "\n",
        "        # use a for loop to pass x through a stack of decoder layers and update attention_weights (~4 lines total)\n",
        "        for i in range(self.num_layers):\n",
        "            # pass x and the encoder output through a stack of decoder layers and save the attention weights\n",
        "            # of block 1 and 2 (~1 line)\n",
        "            x, block1, block2 = self.dec_layers[i](x=x, enc_output=enc_output, training=training, look_ahead_mask=look_ahead_mask, padding_mask=padding_mask)\n",
        "\n",
        "            #update attention_weights dictionary with the attention weights of block 1 and block 2\n",
        "            attention_weights['decoder_layer{}_block1_self_att'.format(i+1)] = block1\n",
        "            attention_weights['decoder_layer{}_block2_decenc_att'.format(i+1)] = block2\n",
        "        #x.shape == (batch_size, target_seq_len, embedding_dim)\n",
        "        return x, attention_weights"
      ]
    },
    {
      "cell_type": "code",
      "execution_count": 134,
      "metadata": {
        "colab": {
          "base_uri": "https://localhost:8080/"
        },
        "id": "P3Iqg3_4_4IK",
        "outputId": "f54a39b4-ca5d-4430-dee0-91bfbc901d91"
      },
      "outputs": [
        {
          "name": "stdout",
          "output_type": "stream",
          "text": [
            "\u001b[92mAll tests passed\n"
          ]
        }
      ],
      "source": [
        "# # UNIT TEST\n",
        "Decoder_test(Decoder, create_look_ahead_mask, create_padding_mask)"
      ]
    },
    {
      "cell_type": "markdown",
      "metadata": {
        "id": "xK9Mop1Y_4IK"
      },
      "source": [
        "## 6. Assembling the Full Transformer Model\n",
        "\n",
        "The Transformer architecture brings together the encoder and decoder components into a unified model designed for sequence-to-sequence tasks. This includes applications like machine translation, summarization, and question answering.\n",
        "\n",
        "The full model consists of stacked encoder and decoder layers, along with a final dense output layer that generates predictions.\n",
        "\n",
        "<img src=\"../assets/transformer.png\" alt=\"Full Transformer Architecture\" width=\"550\"/>\n",
        "\n",
        "### Architecture Flow\n",
        "\n",
        "1. **Input → Encoder**  \n",
        "   The source input sequence is first passed through the encoder, which consists of:\n",
        "   - Token embeddings\n",
        "   - Positional encodings\n",
        "   - Multiple stacked encoder layers (each with multi-head self-attention and feed-forward networks)\n",
        "\n",
        "2. **Target → Decoder**  \n",
        "   The target sequence (shifted during training) is passed through the decoder:\n",
        "   - Token embeddings and positional encodings are applied to the target\n",
        "   - Masked self-attention is used to prevent the decoder from attending to future tokens\n",
        "   - Cross-attention integrates information from the encoder’s output\n",
        "   - A feed-forward network further refines each decoder layer’s output\n",
        "\n",
        "3. **Output Layer**  \n",
        "   The final decoder output is passed through a linear `Dense` layer, followed by a `softmax` activation to generate token level predictions over the vocabulary.\n",
        "\n",
        "\n",
        "### Transformer Class Design\n",
        "\n",
        "The main model combines all components into a single `Transformer` class, which performs the following steps in the `call()` method:\n",
        "\n",
        "1. Pass the input sequence through the encoder using the appropriate padding mask.\n",
        "2. Pass the encoder output and target sequence through the decoder, using both the look-ahead and padding masks.\n",
        "3. Apply a final linear projection to the decoder’s output.\n",
        "4. Use a `softmax` activation to produce a probability distribution over the vocabulary for each position in the output.\n",
        "\n",
        "This modular design allows flexibility for reuse across a variety of NLP tasks and training strategies.\n"
      ]
    },
    {
      "cell_type": "code",
      "execution_count": 135,
      "metadata": {
        "id": "QHymPmaj-2ba"
      },
      "outputs": [],
      "source": [
        "class Transformer(tf.keras.Model):\n",
        "    \"\"\"\n",
        "    Complete transformer with an Encoder and a Decoder\n",
        "    \"\"\"\n",
        "    def __init__(self, num_layers, embedding_dim, num_heads, fully_connected_dim, input_vocab_size,\n",
        "               target_vocab_size, max_positional_encoding_input,\n",
        "               max_positional_encoding_target, dropout_rate=0.1, layernorm_eps=1e-6):\n",
        "        super(Transformer, self).__init__()\n",
        "\n",
        "        self.encoder = Encoder(num_layers=num_layers,\n",
        "                               embedding_dim=embedding_dim,\n",
        "                               num_heads=num_heads,\n",
        "                               fully_connected_dim=fully_connected_dim,\n",
        "                               input_vocab_size=input_vocab_size,\n",
        "                               maximum_position_encoding=max_positional_encoding_input,\n",
        "                               dropout_rate=dropout_rate,\n",
        "                               layernorm_eps=layernorm_eps)\n",
        "\n",
        "        self.decoder = Decoder(num_layers=num_layers,\n",
        "                               embedding_dim=embedding_dim,\n",
        "                               num_heads=num_heads,\n",
        "                               fully_connected_dim=fully_connected_dim,\n",
        "                               target_vocab_size=target_vocab_size,\n",
        "                               maximum_position_encoding=max_positional_encoding_target,\n",
        "                               dropout_rate=dropout_rate,\n",
        "                               layernorm_eps=layernorm_eps)\n",
        "\n",
        "        self.final_layer = Dense(target_vocab_size, activation='softmax')\n",
        "\n",
        "    def call(self, input_sentence, output_sentence, training, enc_padding_mask, look_ahead_mask, dec_padding_mask):\n",
        "        \"\"\"\n",
        "        Forward pass for the entire Transformer\n",
        "        Arguments:\n",
        "            input_sentence -- Tensor of shape (batch_size, input_seq_len)\n",
        "                              An array of the indexes of the words in the input sentence\n",
        "            output_sentence -- Tensor of shape (batch_size, target_seq_len)\n",
        "                              An array of the indexes of the words in the output sentence\n",
        "            training -- Boolean, set to true to activate\n",
        "                        the training mode for dropout layers\n",
        "            enc_padding_mask -- Boolean mask to ensure that the padding is not\n",
        "                    treated as part of the input\n",
        "            look_ahead_mask -- Boolean mask for the target_input\n",
        "            dec_padding_mask -- Boolean mask for the second multihead attention layer\n",
        "        Returns:\n",
        "            final_output -- Describe me\n",
        "            attention_weights - Dictionary of tensors containing all the attention weights for the decoder\n",
        "                                each of shape Tensor of shape (batch_size, num_heads, target_seq_len, input_seq_len)\n",
        "        \"\"\"\n",
        "        # call self.encoder with the appropriate arguments to get the encoder output\n",
        "        enc_output = self.encoder(x=input_sentence, training=training, mask=enc_padding_mask)  # (batch_size, inp_seq_len, embedding_dim)\n",
        "\n",
        "        # call self.decoder with the appropriate arguments to get the decoder output\n",
        "        # dec_output.shape == (batch_size, tar_seq_len, embedding_dim)\n",
        "        dec_output, attention_weights = self.decoder(x=output_sentence, enc_output=enc_output, training=training, look_ahead_mask=look_ahead_mask, padding_mask=dec_padding_mask)\n",
        "\n",
        "        # pass decoder output through a linear layer and softmax (~2 lines)\n",
        "        final_output = self.final_layer(dec_output) # (batch_size, tar_seq_len, target_vocab_size)\n",
        "\n",
        "        return final_output, attention_weights"
      ]
    },
    {
      "cell_type": "code",
      "execution_count": 136,
      "metadata": {
        "colab": {
          "base_uri": "https://localhost:8080/"
        },
        "id": "K5yGTF4r_4IK",
        "outputId": "63285bc0-ef5c-4b68-e921-7298323c23d9"
      },
      "outputs": [
        {
          "name": "stdout",
          "output_type": "stream",
          "text": [
            "Tensor(\"layer_normalization_60_1/add_2:0\", shape=(1, 5, 4), dtype=float32)\n",
            "Tensor(\"encoder_layer_4_1/layer_normalization_60_1/add_2:0\", shape=(1, 5, 4), dtype=float32)\n",
            "Tensor(\"layer_normalization_62_1/add_2:0\", shape=(1, 5, 4), dtype=float32)\n",
            "Tensor(\"encoder_layer_5_1/layer_normalization_62_1/add_2:0\", shape=(1, 5, 4), dtype=float32)\n",
            "Tensor(\"layer_normalization_64_1/add_2:0\", shape=(1, 5, 4), dtype=float32)\n",
            "Tensor(\"encoder_layer_6_1/layer_normalization_64_1/add_2:0\", shape=(1, 5, 4), dtype=float32)\n",
            "Tensor(\"layer_normalization_66_1/add_2:0\", shape=(1, 5, 4), dtype=float32)\n",
            "Tensor(\"encoder_layer_7_1/layer_normalization_66_1/add_2:0\", shape=(1, 5, 4), dtype=float32)\n",
            "Tensor(\"layer_normalization_68_1/add_2:0\", shape=(1, 5, 4), dtype=float32)\n",
            "Tensor(\"encoder_layer_8_1/layer_normalization_68_1/add_2:0\", shape=(1, 5, 4), dtype=float32)\n",
            "Tensor(\"layer_normalization_70_1/add_2:0\", shape=(1, 5, 4), dtype=float32)\n",
            "Tensor(\"encoder_layer_9_1/layer_normalization_70_1/add_2:0\", shape=(1, 5, 4), dtype=float32)\n",
            "Tensor(\"encoder_1/encoder_layer_4_1/layer_normalization_60_1/add_2:0\", shape=(1, 5, 4), dtype=float32)\n",
            "Tensor(\"encoder_1/encoder_layer_5_1/layer_normalization_62_1/add_2:0\", shape=(1, 5, 4), dtype=float32)\n",
            "Tensor(\"encoder_1/encoder_layer_6_1/layer_normalization_64_1/add_2:0\", shape=(1, 5, 4), dtype=float32)\n",
            "Tensor(\"encoder_1/encoder_layer_7_1/layer_normalization_66_1/add_2:0\", shape=(1, 5, 4), dtype=float32)\n",
            "Tensor(\"encoder_1/encoder_layer_8_1/layer_normalization_68_1/add_2:0\", shape=(1, 5, 4), dtype=float32)\n",
            "Tensor(\"encoder_1/encoder_layer_9_1/layer_normalization_70_1/add_2:0\", shape=(1, 5, 4), dtype=float32)\n",
            "tf.Tensor(\n",
            "[[[-1.506316    0.15101406  0.0492466   1.3060552 ]\n",
            "  [ 0.8889055   0.2238119   0.57073545 -1.683453  ]\n",
            "  [ 1.1112376   0.7489232  -0.44317025 -1.4169906 ]\n",
            "  [ 0.9864203  -1.4325075  -0.43854302  0.8846303 ]\n",
            "  [-1.5596968   0.73835564 -0.17451021  0.9958514 ]]], shape=(1, 5, 4), dtype=float32)\n",
            "tf.Tensor(\n",
            "[[[-1.434469   -0.17873268  0.25472143  1.3584803 ]\n",
            "  [ 0.20656961  0.67477506  0.8070502  -1.6883948 ]\n",
            "  [ 1.0634995   0.7229256  -0.28055912 -1.5058658 ]\n",
            "  [ 1.433762   -1.2277379  -0.5589489   0.35292476]\n",
            "  [-1.584749    0.49306718 -0.02405709  1.1157391 ]]], shape=(1, 5, 4), dtype=float32)\n",
            "tf.Tensor(\n",
            "[[[-1.4131548  -0.24848858  0.30133313  1.3603103 ]\n",
            "  [-0.23815049  0.86586714  0.9101807  -1.5378973 ]\n",
            "  [ 0.9733423   0.7670448  -0.1810741  -1.5593129 ]\n",
            "  [ 1.7153445  -0.7822542  -0.5384362  -0.39465407]\n",
            "  [-1.5627717   0.33617958  0.02488235  1.2017097 ]]], shape=(1, 5, 4), dtype=float32)\n",
            "tf.Tensor(\n",
            "[[[-1.4336932  -0.23756388  0.33987898  1.3313781 ]\n",
            "  [-0.49006218  0.9828611   0.90954095 -1.4023398 ]\n",
            "  [ 0.6272733   0.77134407  0.3090288  -1.7076463 ]\n",
            "  [ 1.6404245  -0.18133272 -0.40423977 -1.0548521 ]\n",
            "  [-1.5777844   0.25197718  0.12988444  1.1959227 ]]], shape=(1, 5, 4), dtype=float32)\n",
            "tf.Tensor(\n",
            "[[[-1.4774426  -0.16924371  0.35819256  1.2884938 ]\n",
            "  [-0.6325287   1.0430993   0.89643294 -1.3070034 ]\n",
            "  [ 0.28295246  0.8475702   0.56666625 -1.697189  ]\n",
            "  [ 1.3557007   0.3477703  -0.3084942  -1.3949769 ]\n",
            "  [-1.5778745   0.25463066  0.1277748   1.195469  ]]], shape=(1, 5, 4), dtype=float32)\n",
            "tf.Tensor(\n",
            "[[[-1.5272027  -0.07965045  0.37312627  1.233727  ]\n",
            "  [-0.74133414  1.0323343   0.9367124  -1.2277125 ]\n",
            "  [-0.10390653  0.929712    0.7668983  -1.5927037 ]\n",
            "  [ 1.0348531   0.66594297 -0.12955022 -1.5712458 ]\n",
            "  [-1.5816219   0.22770232  0.16214323  1.1917764 ]]], shape=(1, 5, 4), dtype=float32)\n",
            "tf.Tensor(\n",
            "[[[-1.2361642   0.11574909 -0.39656657  1.5169815 ]\n",
            "  [ 1.010634    0.075082    0.5488355  -1.6345515 ]\n",
            "  [ 1.1849394   0.61105764 -0.3458572  -1.4501399 ]\n",
            "  [ 0.29282817 -1.3201499  -0.39291456  1.4202361 ]\n",
            "  [-0.90129507 -0.29266664 -0.49600568  1.6899674 ]]], shape=(1, 5, 4), dtype=float32)\n",
            "tf.Tensor(\n",
            "[[[-0.9528561  -0.24675626 -0.47528452  1.674897  ]\n",
            "  [ 0.34265268  0.5930378   0.7757653  -1.711456  ]\n",
            "  [ 0.65037     1.0283055  -0.09414399 -1.5845314 ]\n",
            "  [ 0.8588155  -1.2979658  -0.64103234  1.0801827 ]\n",
            "  [-0.59613335 -0.56852454 -0.5672773   1.7319353 ]]], shape=(1, 5, 4), dtype=float32)\n",
            "tf.Tensor(\n",
            "[[[-0.6781417  -0.5410081  -0.50941336  1.7285633 ]\n",
            "  [-0.14601041  0.8195706   0.90421575 -1.5777761 ]\n",
            "  [ 0.10900781  1.1978452   0.26835132 -1.5752045 ]\n",
            "  [ 1.2741556  -1.1599287  -0.772853    0.6586261 ]\n",
            "  [-0.36095607 -0.7643865  -0.5888982   1.7142408 ]]], shape=(1, 5, 4), dtype=float32)\n",
            "tf.Tensor(\n",
            "[[[-0.45558044 -0.7551925  -0.5102171   1.7209902 ]\n",
            "  [-0.37758002  0.9713873   0.8730398  -1.4668471 ]\n",
            "  [-0.20640245  1.1794668   0.5364114  -1.5094757 ]\n",
            "  [ 1.5531912  -0.91456187 -0.84240496  0.20377567]\n",
            "  [-0.13194741 -0.90765095 -0.624398    1.6639965 ]]], shape=(1, 5, 4), dtype=float32)\n",
            "tf.Tensor(\n",
            "[[[-0.24160062 -0.91480637 -0.52545357  1.6818606 ]\n",
            "  [-0.48297724  1.0414526   0.8446307  -1.4031061 ]\n",
            "  [-0.3826507   1.1484073   0.67578745 -1.4415439 ]\n",
            "  [ 1.664952   -0.5882617  -0.92709184 -0.14959848]\n",
            "  [ 0.11678927 -1.0259397  -0.6680397   1.57719   ]]], shape=(1, 5, 4), dtype=float32)\n",
            "tf.Tensor(\n",
            "[[[-0.01534013 -1.0465771  -0.5508466   1.6127636 ]\n",
            "  [-0.5725753   1.076234    0.84065413 -1.3443128 ]\n",
            "  [-0.50508845  1.1285738   0.7552245  -1.3787099 ]\n",
            "  [ 1.6331624  -0.26422927 -1.0881809  -0.2807522 ]\n",
            "  [ 0.3959545  -1.1160336  -0.72126293  1.4413419 ]]], shape=(1, 5, 4), dtype=float32)\n",
            "tf.Tensor(\n",
            "[[[0.01528832 0.03182636 0.01911612 0.01327814 0.01919508 0.02527708\n",
            "   0.04256717 0.02274482 0.02607786 0.01837319 0.01522125 0.02259313\n",
            "   0.01574946 0.02403509 0.01978756 0.04540539 0.06142665 0.02108401\n",
            "   0.03291011 0.03315888 0.02970277 0.01929083 0.0247163  0.01329596\n",
            "   0.04469232 0.03739361 0.03529752 0.04019889 0.05712175 0.0261829\n",
            "   0.0395442  0.04096638 0.01617936 0.01165208 0.03864947]\n",
            "  [0.02014697 0.04859223 0.02345644 0.03541204 0.0283726  0.04107721\n",
            "   0.03235343 0.0156891  0.01814077 0.02904724 0.06268603 0.02836419\n",
            "   0.03142245 0.01479187 0.01355626 0.02608576 0.02333027 0.01999775\n",
            "   0.05273187 0.02166903 0.04816905 0.03945329 0.02214636 0.06576873\n",
            "   0.0247204  0.01538066 0.01560687 0.0295563  0.015361   0.01498436\n",
            "   0.0255569  0.01383817 0.02658181 0.01545557 0.04049703]\n",
            "  [0.0195042  0.04954962 0.02321398 0.03477212 0.02767027 0.04047157\n",
            "   0.03330394 0.01576067 0.01843857 0.02860841 0.06189967 0.0286176\n",
            "   0.03057305 0.01498106 0.01368851 0.02659448 0.02388686 0.0199859\n",
            "   0.05336741 0.02167986 0.04909446 0.0390679  0.02228669 0.06428877\n",
            "   0.02514266 0.01537653 0.01598698 0.0297226  0.01560763 0.01496341\n",
            "   0.02575435 0.01385162 0.02600615 0.01516956 0.04111298]\n",
            "  [0.01899614 0.05044183 0.023175   0.03487456 0.0269051  0.03937114\n",
            "   0.03397715 0.01602066 0.01896625 0.0283564  0.06203504 0.02923188\n",
            "   0.02991881 0.01540039 0.01415678 0.02662026 0.02369985 0.02019717\n",
            "   0.05350977 0.02139918 0.05013032 0.03892028 0.02258017 0.06377792\n",
            "   0.0250932  0.01508282 0.01640141 0.02923789 0.0153769  0.01494244\n",
            "   0.02546671 0.01355465 0.02567461 0.01537614 0.04113113]\n",
            "  [0.00971088 0.05081175 0.0177044  0.01549489 0.01371065 0.02109294\n",
            "   0.05899794 0.02247601 0.03180029 0.01695094 0.02220656 0.03029742\n",
            "   0.01275546 0.02676486 0.02300554 0.04511683 0.05193997 0.02136672\n",
            "   0.0447165  0.02558787 0.04915224 0.02152133 0.02695585 0.01738761\n",
            "   0.0418411  0.02311889 0.03903257 0.0336702  0.03721017 0.02019881\n",
            "   0.03336421 0.02350566 0.01369229 0.01109676 0.04574382]]], shape=(1, 5, 35), dtype=float32)\n",
            "\u001b[92mAll tests passed\n"
          ]
        }
      ],
      "source": [
        "# UNIT TEST\n",
        "Transformer_test(Transformer, create_look_ahead_mask, create_padding_mask)"
      ]
    },
    {
      "cell_type": "markdown",
      "metadata": {
        "id": "lthsC3cT_4IK"
      },
      "source": [
        "## Conclusion\n",
        "\n",
        "This notebook explored the inner workings of the Transformer architecture by implementing it from the ground up. Key components such as positional encoding, self-attention, and multi-head attention were developed and integrated into full encoder and decoder modules. Through this process, the final model closely mirrors the original Transformer architecture introduced by Vaswani et al. and provides a foundation for further experimentation with advanced NLP tasks.\n",
        "\n",
        "### Key Takeaways\n",
        "\n",
        "- **Self-Attention** enables each token to dynamically focus on other tokens in the sequence, regardless of position.\n",
        "- **Multi-Head Attention** improves the model’s ability to capture different contextual relationships by learning multiple attention distributions in parallel.\n",
        "- **Positional Encoding** injects order information into input embeddings, which is crucial for understanding sequential data in a parallel architecture.\n",
        "- **Residual Connections and Layer Normalization** help stabilize training and preserve gradient flow in deep architectures.\n",
        "- **Masking** allows the model to ignore padded tokens or restrict future token access during training (causal masking).\n",
        "\n",
        "The resulting architecture is highly parallelizable and good for use in modern NLP tasks.\n",
        "\n",
        "\n",
        "### Next Steps\n",
        "\n",
        "With the core Transformer structure implemented, this model can now be extended and applied to real-world problems such as:\n",
        "\n",
        "- **Named Entity Recognition (NER)**\n",
        "- **Extractive Question Answering**\n",
        "- **Text Summarization**\n",
        "- **Sequence Classification**\n",
        "\n",
        "The encoder and decoder modules developed here can be fine-tuned or enhanced for these applications in downstream notebooks.\n",
        "\n",
        "---\n",
        "\n",
        "## References\n",
        "\n",
        "- Vaswani, A., Shazeer, N., Parmar, N., Uszkoreit, J., Jones, L., Gomez, A. N., Kaiser, L., & Polosukhin, I. (2017).  \n",
        "  [Attention Is All You Need](https://arxiv.org/abs/1706.03762). *Advances in Neural Information Processing Systems*.\n"
      ]
    }
  ],
  "metadata": {
    "accelerator": "GPU",
    "colab": {
      "provenance": []
    },
    "kernelspec": {
      "display_name": "tf_env",
      "language": "python",
      "name": "python3"
    },
    "language_info": {
      "codemirror_mode": {
        "name": "ipython",
        "version": 3
      },
      "file_extension": ".py",
      "mimetype": "text/x-python",
      "name": "python",
      "nbconvert_exporter": "python",
      "pygments_lexer": "ipython3",
      "version": "3.9.21"
    }
  },
  "nbformat": 4,
  "nbformat_minor": 0
}
